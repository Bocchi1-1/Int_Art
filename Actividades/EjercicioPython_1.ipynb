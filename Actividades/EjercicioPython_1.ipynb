{
  "nbformat": 4,
  "nbformat_minor": 0,
  "metadata": {
    "colab": {
      "provenance": [],
      "authorship_tag": "ABX9TyMIgIGjGr+IxIrfZzh2Cmi/",
      "include_colab_link": true
    },
    "kernelspec": {
      "name": "python3",
      "display_name": "Python 3"
    },
    "language_info": {
      "name": "python"
    }
  },
  "cells": [
    {
      "cell_type": "markdown",
      "metadata": {
        "id": "view-in-github",
        "colab_type": "text"
      },
      "source": [
        "<a href=\"https://colab.research.google.com/github/Bocchi1-1/Int_Art/blob/main/Actividades/A2_Ejercicios_en_Python.ipynb\" target=\"_parent\"><img src=\"https://colab.research.google.com/assets/colab-badge.svg\" alt=\"Open In Colab\"/></a>"
      ]
    },
    {
      "cell_type": "code",
      "execution_count": null,
      "metadata": {
        "colab": {
          "base_uri": "https://localhost:8080/"
        },
        "id": "8MQUX4xxiLKi",
        "outputId": "32bad34c-8a86-496e-f569-41bc9e139ef2"
      },
      "outputs": [
        {
          "output_type": "stream",
          "name": "stdout",
          "text": [
            "Por favor, ingresa un número entero: 6\n",
            "6 es un número par.\n"
          ]
        }
      ],
      "source": [
        "#A2.- Ejercicios en Python\n",
        "#Jesús Iván Oviedo Molina\n",
        "#1970648 N1\n",
        "# Solicitar al usuario un número entero\n",
        "\n",
        "numero = int(input(\"Por favor, ingresa un número entero: \"))\n",
        "\n",
        "# Verificar si el número es par o impar\n",
        "if numero % 2 == 0:\n",
        "    print(f\"{numero} es un número par.\")\n",
        "else:\n",
        "    print(f\"{numero} es un número impar.\")"
      ]
    },
    {
      "cell_type": "code",
      "source": [
        "# Solicitar al usuario una lista de números separados por comas\n",
        "entrada_usuario = input(\"Ingresa una lista de números separados por comas: \")\n",
        "\n",
        "# Dividir la entrada del usuario en una lista de cadenas\n",
        "numeros_str = entrada_usuario.split(',')\n",
        "\n",
        "# Convertir las cadenas en números enteros\n",
        "numeros = [int(numero) for numero in numeros_str]\n",
        "\n",
        "# Invertir la lista\n",
        "numeros_invertidos = numeros[::-1]\n",
        "\n",
        "# Mostrar la lista en orden inverso\n",
        "print(\"Lista en orden inverso:\", numeros_invertidos)"
      ],
      "metadata": {
        "colab": {
          "base_uri": "https://localhost:8080/"
        },
        "id": "rYqvLhivrwGl",
        "outputId": "71015959-2b77-486c-f978-42401838aeb3"
      },
      "execution_count": null,
      "outputs": [
        {
          "output_type": "stream",
          "name": "stdout",
          "text": [
            "Ingresa una lista de números separados por comas: 2, 3, 4, 5\n",
            "Lista en orden inverso: [5, 4, 3, 2]\n"
          ]
        }
      ]
    },
    {
      "cell_type": "code",
      "source": [
        "import random\n",
        "\n",
        "# Generar un número aleatorio entre 1 y 100\n",
        "numero_objetivo = random.randint(1, 100)\n",
        "\n",
        "# Inicializar el contador de intentos\n",
        "intentos = 0\n",
        "\n",
        "# Comenzar el bucle para adivinar\n",
        "while True:\n",
        "    # Solicitar al usuario que ingrese un número\n",
        "    intento = int(input(\"Adivina el número (entre 1 y 100): \"))\n",
        "\n",
        "    # Incrementar el contador de intentos\n",
        "    intentos += 1\n",
        "\n",
        "    # Comprobar si el número es igual al objetivo\n",
        "    if intento == numero_objetivo:\n",
        "        print(f\"¡Felicidades! Adivinaste el número {numero_objetivo} en {intentos} intentos.\")\n",
        "        break\n",
        "    elif intento < numero_objetivo:\n",
        "        print(\"El número es mayor. Intenta nuevamente.\")\n",
        "    else:\n",
        "        print(\"El número es menor. Intenta nuevamente.\")"
      ],
      "metadata": {
        "colab": {
          "base_uri": "https://localhost:8080/"
        },
        "id": "I8Lb73JEsPM8",
        "outputId": "1fde6981-0c24-4ada-ce7a-b2d31ac2182d"
      },
      "execution_count": null,
      "outputs": [
        {
          "output_type": "stream",
          "name": "stdout",
          "text": [
            "Adivina el número (entre 1 y 100): 35\n",
            "El número es menor. Intenta nuevamente.\n",
            "Adivina el número (entre 1 y 100): 24\n",
            "El número es menor. Intenta nuevamente.\n",
            "Adivina el número (entre 1 y 100): 3\n",
            "El número es mayor. Intenta nuevamente.\n",
            "Adivina el número (entre 1 y 100): 15\n",
            "El número es mayor. Intenta nuevamente.\n",
            "Adivina el número (entre 1 y 100): 21\n",
            "El número es menor. Intenta nuevamente.\n",
            "Adivina el número (entre 1 y 100): 17\n",
            "¡Felicidades! Adivinaste el número 17 en 6 intentos.\n"
          ]
        }
      ]
    },
    {
      "cell_type": "code",
      "source": [
        "def es_primo(numero):\n",
        "    if numero < 2:\n",
        "        return False\n",
        "    for i in range(2, int(numero**0.5) + 1):\n",
        "        if numero % i == 0:\n",
        "            return False\n",
        "    return True\n",
        "\n",
        "# Solicitar al usuario un rango de números\n",
        "inicio = int(input(\"Ingresa el número inicial del rango: \"))\n",
        "fin = int(input(\"Ingresa el número final del rango: \"))\n",
        "\n",
        "print(f\"Números primos en el rango de {inicio} a {fin}:\")\n",
        "\n",
        "for num in range(inicio, fin + 1):\n",
        "    if es_primo(num):\n",
        "        print(num)"
      ],
      "metadata": {
        "colab": {
          "base_uri": "https://localhost:8080/"
        },
        "id": "KDGluZQttwBQ",
        "outputId": "90c812bf-a75d-4990-e162-83102d614cb1"
      },
      "execution_count": null,
      "outputs": [
        {
          "output_type": "stream",
          "name": "stdout",
          "text": [
            "Ingresa el número inicial del rango: 20\n",
            "Ingresa el número final del rango: 200\n",
            "Números primos en el rango de 20 a 200:\n",
            "23\n",
            "29\n",
            "31\n",
            "37\n",
            "41\n",
            "43\n",
            "47\n",
            "53\n",
            "59\n",
            "61\n",
            "67\n",
            "71\n",
            "73\n",
            "79\n",
            "83\n",
            "89\n",
            "97\n",
            "101\n",
            "103\n",
            "107\n",
            "109\n",
            "113\n",
            "127\n",
            "131\n",
            "137\n",
            "139\n",
            "149\n",
            "151\n",
            "157\n",
            "163\n",
            "167\n",
            "173\n",
            "179\n",
            "181\n",
            "191\n",
            "193\n",
            "197\n",
            "199\n"
          ]
        }
      ]
    }
  ]
}
